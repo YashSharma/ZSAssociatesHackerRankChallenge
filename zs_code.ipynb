{
 "cells": [
  {
   "cell_type": "markdown",
   "metadata": {},
   "source": [
    "# ZS ASSOCIATES COMPETITION FINAL CODE"
   ]
  },
  {
   "cell_type": "markdown",
   "metadata": {},
   "source": [
    "ZS Associates hosted a data science competition on HackerRank last weekend. This was my final code submission for the competition. The data set was very tricky this time. Most of my time was spent trying to create a suitable dataset on which I could train my model and predict the solution. The evaluation metric they used for classification was F1 score and for regression they had their own metric. The maximum classification accuracy I was able to achieve was 30.12% giving me a 0.15 score on the leaderboard. For regression they had a very tricky metric and to get a positive score on that metric was nearly impossible without a good classification accuracy as we were supposed to predict revenue in our regression part and without correctly identifying the lease instrument there was no point in predicting the revenue. "
   ]
  },
  {
   "cell_type": "code",
   "execution_count": 3,
   "metadata": {
    "collapsed": false
   },
   "outputs": [],
   "source": [
    "import numpy as np\n",
    "import pandas as pd\n",
    "import scipy.stats as st\n",
    "import matplotlib.pyplot as plt\n",
    "%matplotlib inline"
   ]
  },
  {
   "cell_type": "markdown",
   "metadata": {},
   "source": [
    "They provided us with four datasets - hospital profiling, hospital revenue, predicted revenue and solution."
   ]
  },
  {
   "cell_type": "code",
   "execution_count": 4,
   "metadata": {
    "collapsed": true
   },
   "outputs": [],
   "source": [
    "hospital_profiling = pd.read_csv('Dataset/HospitalProfiling.csv')\n",
    "hospital_revenue = pd.read_csv('Dataset/HospitalRevenue.csv')\n",
    "projected_revenue = pd.read_csv('Dataset/ProjectedRevenue.csv')\n",
    "solution = pd.read_csv('Dataset/Solution.csv')"
   ]
  },
  {
   "cell_type": "markdown",
   "metadata": {},
   "source": [
    "There were in total 56 unique district ids, 1602 unique Hospital_ID's and 15 Instrument_ID's present in the 4 datasets. I was able to construct a dataframe containing all the possible combinations.\n",
    "My intital aim was to extract all the Hospital_ID - District_ID combinations present in the 4 dataset out of this all possible combinations. These H-D combinations along with all 15 Instrument_ID's allowed me to construct a model trainable dataset which contained both the confirmed lease deals and the deals which were not present in the revenue dataset but were still possible for a particular H-D combination."
   ]
  },
  {
   "cell_type": "code",
   "execution_count": 5,
   "metadata": {
    "collapsed": false
   },
   "outputs": [
    {
     "data": {
      "text/plain": [
       "(56,)"
      ]
     },
     "execution_count": 5,
     "metadata": {},
     "output_type": "execute_result"
    }
   ],
   "source": [
    "all_possible_district_id = hospital_revenue['District_ID'].unique()\n",
    "all_possible_district_id = np.concatenate((all_possible_district_id,['District 53']),axis = 0)\n",
    "all_possible_district_id = np.concatenate((all_possible_district_id,['District 26','District 22']),axis = 0)\n",
    "all_possible_district_id.shape"
   ]
  },
  {
   "cell_type": "code",
   "execution_count": 6,
   "metadata": {
    "collapsed": false
   },
   "outputs": [
    {
     "data": {
      "text/plain": [
       "(1602,)"
      ]
     },
     "execution_count": 6,
     "metadata": {},
     "output_type": "execute_result"
    }
   ],
   "source": [
    "all_possible_hospital_id = hospital_revenue['Hospital_ID'].unique()\n",
    "all_possible_hospital_id = np.concatenate((all_possible_hospital_id,['Hospital 838']), axis = 0)\n",
    "all_possible_hospital_id.shape"
   ]
  },
  {
   "cell_type": "code",
   "execution_count": 7,
   "metadata": {
    "collapsed": false
   },
   "outputs": [
    {
     "data": {
      "text/plain": [
       "(15,)"
      ]
     },
     "execution_count": 7,
     "metadata": {},
     "output_type": "execute_result"
    }
   ],
   "source": [
    "all_possible_instrument_id = hospital_revenue['Instrument_ID'].unique()\n",
    "all_possible_instrument_id.shape"
   ]
  },
  {
   "cell_type": "code",
   "execution_count": 8,
   "metadata": {
    "collapsed": true
   },
   "outputs": [],
   "source": [
    "x = {'Hospital_ID':all_possible_hospital_id, 'Instrument_ID':all_possible_instrument_id, 'District_ID':all_possible_district_id}\n",
    "import itertools\n",
    "all_possible_combination = pd.DataFrame(list(itertools.product(*x.values())), columns=x.keys())"
   ]
  },
  {
   "cell_type": "code",
   "execution_count": 9,
   "metadata": {
    "collapsed": false
   },
   "outputs": [],
   "source": [
    "# all_possible_combination.to_csv('all_pos.csv', index = False)"
   ]
  },
  {
   "cell_type": "code",
   "execution_count": 10,
   "metadata": {
    "collapsed": false
   },
   "outputs": [
    {
     "data": {
      "text/html": [
       "<div>\n",
       "<table border=\"1\" class=\"dataframe\">\n",
       "  <thead>\n",
       "    <tr style=\"text-align: right;\">\n",
       "      <th></th>\n",
       "      <th>Instrument_ID</th>\n",
       "      <th>Hospital_ID</th>\n",
       "      <th>District_ID</th>\n",
       "    </tr>\n",
       "  </thead>\n",
       "  <tbody>\n",
       "    <tr>\n",
       "      <th>0</th>\n",
       "      <td>Instrument 2</td>\n",
       "      <td>Hospital 1</td>\n",
       "      <td>District 12</td>\n",
       "    </tr>\n",
       "    <tr>\n",
       "      <th>1</th>\n",
       "      <td>Instrument 2</td>\n",
       "      <td>Hospital 1</td>\n",
       "      <td>District 13</td>\n",
       "    </tr>\n",
       "    <tr>\n",
       "      <th>2</th>\n",
       "      <td>Instrument 2</td>\n",
       "      <td>Hospital 1</td>\n",
       "      <td>District 16</td>\n",
       "    </tr>\n",
       "    <tr>\n",
       "      <th>3</th>\n",
       "      <td>Instrument 2</td>\n",
       "      <td>Hospital 1</td>\n",
       "      <td>District 18</td>\n",
       "    </tr>\n",
       "    <tr>\n",
       "      <th>4</th>\n",
       "      <td>Instrument 2</td>\n",
       "      <td>Hospital 1</td>\n",
       "      <td>District 19</td>\n",
       "    </tr>\n",
       "  </tbody>\n",
       "</table>\n",
       "</div>"
      ],
      "text/plain": [
       "  Instrument_ID Hospital_ID  District_ID\n",
       "0  Instrument 2  Hospital 1  District 12\n",
       "1  Instrument 2  Hospital 1  District 13\n",
       "2  Instrument 2  Hospital 1  District 16\n",
       "3  Instrument 2  Hospital 1  District 18\n",
       "4  Instrument 2  Hospital 1  District 19"
      ]
     },
     "execution_count": 10,
     "metadata": {},
     "output_type": "execute_result"
    }
   ],
   "source": [
    "all_possible_combination.head()"
   ]
  },
  {
   "cell_type": "markdown",
   "metadata": {},
   "source": [
    "My next aim was to extract the possible H-D combinations present in the four datasets out of all possible combination dataframes. For extracting these combinations I added a feature in all possible combination dataframe called 'Exist' and initially filled it with zeros. For the combinations that were present in the given dataframe I converted the value in this column to 1 and later extracted those rows out of all possible combination data frame for which this value was 1.\n",
    "I used this approach because it gave me flexibility to decide on which combinations to include and exclude. And this was a very important aspect of competition."
   ]
  },
  {
   "cell_type": "markdown",
   "metadata": {},
   "source": [
    "Something I observed after playing with the datasets was that the H-D combinations that were present in the Hospital profiling dataset were very different from those present in the revenue dataset. So whenever I included those combinations it gave me a big training dataset but it was highly imbalanced when I added 'Buy_or_not' column in it. \n",
    "So till the final submission I experimented with both the possiblities one in which I included the H-D combinations of hospital profiling dataframe and the one in which I did not include the hospital profiling dataframe. \n",
    "In the end I went with the one which excluded the profiling combinations because it gave me better accuracy."
   ]
  },
  {
   "cell_type": "code",
   "execution_count": 11,
   "metadata": {
    "collapsed": true
   },
   "outputs": [],
   "source": [
    "all_possible_combination['Exist'] = 0"
   ]
  },
  {
   "cell_type": "code",
   "execution_count": 12,
   "metadata": {
    "collapsed": false
   },
   "outputs": [
    {
     "name": "stderr",
     "output_type": "stream",
     "text": [
      "/Users/Apple/anaconda/lib/python2.7/site-packages/ipykernel/__main__.py:3: SettingWithCopyWarning: \n",
      "A value is trying to be set on a copy of a slice from a DataFrame\n",
      "\n",
      "See the caveats in the documentation: http://pandas.pydata.org/pandas-docs/stable/indexing.html#indexing-view-versus-copy\n",
      "  app.launch_new_instance()\n"
     ]
    }
   ],
   "source": [
    "a = all_possible_combination[['Hospital_ID','District_ID']].apply(tuple, axis = 1)\n",
    "b = hospital_revenue[['Hospital_ID','District_ID']].apply(tuple, axis = 1)\n",
    "all_possible_combination['Exist'][a.isin(b)] = 1"
   ]
  },
  {
   "cell_type": "code",
   "execution_count": 13,
   "metadata": {
    "collapsed": false
   },
   "outputs": [
    {
     "data": {
      "text/plain": [
       "(219660, 4)"
      ]
     },
     "execution_count": 13,
     "metadata": {},
     "output_type": "execute_result"
    }
   ],
   "source": [
    "all_possible_combination[all_possible_combination['Exist'] == 1].shape"
   ]
  },
  {
   "cell_type": "markdown",
   "metadata": {},
   "source": [
    "Below is the commented out code to include profiling combination. When I included these combinations it gave me almost 2.2 lakh more new combinations in the all possible dataframe."
   ]
  },
  {
   "cell_type": "code",
   "execution_count": 14,
   "metadata": {
    "collapsed": false
   },
   "outputs": [],
   "source": [
    "# a = all_possible_combination[['Hospital_ID','District_ID']].apply(tuple, axis = 1)\n",
    "# b = hospital_profiling[['Hospital_ID','District_ID']].apply(tuple, axis = 1)\n",
    "# all_possible_combination['Exist'][a.isin(b)] = 1"
   ]
  },
  {
   "cell_type": "code",
   "execution_count": 15,
   "metadata": {
    "collapsed": false
   },
   "outputs": [],
   "source": [
    "# all_possible_combination[all_possible_combination['Exist'] == 1].shape"
   ]
  },
  {
   "cell_type": "code",
   "execution_count": 16,
   "metadata": {
    "collapsed": false
   },
   "outputs": [
    {
     "name": "stderr",
     "output_type": "stream",
     "text": [
      "/Users/Apple/anaconda/lib/python2.7/site-packages/ipykernel/__main__.py:3: SettingWithCopyWarning: \n",
      "A value is trying to be set on a copy of a slice from a DataFrame\n",
      "\n",
      "See the caveats in the documentation: http://pandas.pydata.org/pandas-docs/stable/indexing.html#indexing-view-versus-copy\n",
      "  app.launch_new_instance()\n"
     ]
    }
   ],
   "source": [
    "a = all_possible_combination[['Hospital_ID','District_ID']].apply(tuple, axis = 1)\n",
    "b = projected_revenue[['Hospital_ID','District_ID']].apply(tuple, axis = 1)\n",
    "all_possible_combination['Exist'][a.isin(b)] = 1"
   ]
  },
  {
   "cell_type": "code",
   "execution_count": 17,
   "metadata": {
    "collapsed": false
   },
   "outputs": [
    {
     "data": {
      "text/plain": [
       "(225180, 4)"
      ]
     },
     "execution_count": 17,
     "metadata": {},
     "output_type": "execute_result"
    }
   ],
   "source": [
    "all_possible_combination[all_possible_combination['Exist'] == 1].shape"
   ]
  },
  {
   "cell_type": "markdown",
   "metadata": {},
   "source": [
    "Below I included those H-D combinations that were present in the solution dataset. This contained both the H-D-I combinations that were present in solution and those H-D-I combinations that were not present in solution. "
   ]
  },
  {
   "cell_type": "code",
   "execution_count": 18,
   "metadata": {
    "collapsed": false
   },
   "outputs": [
    {
     "name": "stderr",
     "output_type": "stream",
     "text": [
      "/Users/Apple/anaconda/lib/python2.7/site-packages/ipykernel/__main__.py:3: SettingWithCopyWarning: \n",
      "A value is trying to be set on a copy of a slice from a DataFrame\n",
      "\n",
      "See the caveats in the documentation: http://pandas.pydata.org/pandas-docs/stable/indexing.html#indexing-view-versus-copy\n",
      "  app.launch_new_instance()\n"
     ]
    }
   ],
   "source": [
    "a = all_possible_combination[['Hospital_ID','District_ID']].apply(tuple, axis = 1)\n",
    "b = solution[['Hospital_ID','District_ID']].apply(tuple, axis = 1)\n",
    "all_possible_combination['Exist'][a.isin(b)] = 1"
   ]
  },
  {
   "cell_type": "code",
   "execution_count": 19,
   "metadata": {
    "collapsed": false
   },
   "outputs": [
    {
     "data": {
      "text/plain": [
       "(258105, 4)"
      ]
     },
     "execution_count": 19,
     "metadata": {},
     "output_type": "execute_result"
    }
   ],
   "source": [
    "all_possible_combination[all_possible_combination['Exist'] == 1].shape"
   ]
  },
  {
   "cell_type": "markdown",
   "metadata": {},
   "source": [
    "Below I added another column in all possible combination dataframe named 'train'. Initially I filled it with 0's and for those H-D-I that were present in solution dataset I replaced 0 with 1. I did this because initially for preparing dataset for training and prediction I wanted to do the same type of treatment with both training dataset and the dataset I wanted use for prediction. "
   ]
  },
  {
   "cell_type": "code",
   "execution_count": 20,
   "metadata": {
    "collapsed": false
   },
   "outputs": [
    {
     "name": "stderr",
     "output_type": "stream",
     "text": [
      "/Users/Apple/anaconda/lib/python2.7/site-packages/ipykernel/__main__.py:4: SettingWithCopyWarning: \n",
      "A value is trying to be set on a copy of a slice from a DataFrame\n",
      "\n",
      "See the caveats in the documentation: http://pandas.pydata.org/pandas-docs/stable/indexing.html#indexing-view-versus-copy\n",
      "/Users/Apple/anaconda/lib/python2.7/site-packages/ipykernel/__main__.py:5: SettingWithCopyWarning: \n",
      "A value is trying to be set on a copy of a slice from a DataFrame\n",
      "\n",
      "See the caveats in the documentation: http://pandas.pydata.org/pandas-docs/stable/indexing.html#indexing-view-versus-copy\n"
     ]
    }
   ],
   "source": [
    "all_possible_combination['train'] = 0\n",
    "a = all_possible_combination[['Hospital_ID','District_ID','Instrument_ID']].apply(tuple, axis = 1)\n",
    "b = solution[['Hospital_ID','District_ID','Instrument_ID']].apply(tuple, axis = 1)\n",
    "all_possible_combination['Exist'][a.isin(b)] = 1\n",
    "all_possible_combination['train'][a.isin(b)] = 1"
   ]
  },
  {
   "cell_type": "code",
   "execution_count": 21,
   "metadata": {
    "collapsed": false
   },
   "outputs": [
    {
     "data": {
      "text/plain": [
       "(258105, 5)"
      ]
     },
     "execution_count": 21,
     "metadata": {},
     "output_type": "execute_result"
    }
   ],
   "source": [
    "all_possible_combination[all_possible_combination['Exist'] == 1].shape"
   ]
  },
  {
   "cell_type": "markdown",
   "metadata": {},
   "source": [
    "I seperated all those combinations for which 'Exist' value was 1 and proceeded with these combinations."
   ]
  },
  {
   "cell_type": "code",
   "execution_count": 22,
   "metadata": {
    "collapsed": true
   },
   "outputs": [],
   "source": [
    "all_possible_combination = all_possible_combination[all_possible_combination['Exist'] == 1]"
   ]
  },
  {
   "cell_type": "markdown",
   "metadata": {},
   "source": [
    "The most important part of any data science competition is feature engineering. Creating new features and transforming them according to your requirement were two of the important tasks of this competition. I created many features and experimented with them to improve my accuracy."
   ]
  },
  {
   "cell_type": "markdown",
   "metadata": {},
   "source": [
    "There were few assumptions which I made during this stage to construct a model trainable data. In the all possible combination dataframe I was sure that those combinations that were present in revenue table were leased, and the others which were present in all possible dataframe but not in revenue data frame were assumed as not leased instruments."
   ]
  },
  {
   "cell_type": "markdown",
   "metadata": {},
   "source": [
    "In the hospital revenue and projected revenue data frame I created the following features:\n",
    "1. Hospital_ID count:\n",
    "   This feature contained the count of each unique hospital id occurence. This helped me in providing information to \n",
    "   model about a particular hospital id in lease details.\n",
    "2. District_ID count:\n",
    "   This feature contained the count of each unique district id occurence. This helped me in providing information to \n",
    "   model about a particular district id in lease details.\n",
    "3. Instrument_ID count:\n",
    "   This feature contained the count of each unique instrument id occurence. This helped me in providing information to \n",
    "   model about a particular intsrument id in lease details.\n",
    "\n",
    "Similarly, I created the following features in the revenue file:\n",
    "4. H+D_count:\n",
    "   Unique Hospital_ID+District_ID count.\n",
    "5. H+I_count:\n",
    "   Unique Hospital_ID+Instrument_ID count.\n",
    "6. D+I_count:\n",
    "   Unique District_ID+Instrument_ID count."
   ]
  },
  {
   "cell_type": "code",
   "execution_count": 23,
   "metadata": {
    "collapsed": false
   },
   "outputs": [
    {
     "data": {
      "text/html": [
       "<div>\n",
       "<table border=\"1\" class=\"dataframe\">\n",
       "  <thead>\n",
       "    <tr style=\"text-align: right;\">\n",
       "      <th></th>\n",
       "      <th>Hospital_ID</th>\n",
       "      <th>Region_ID</th>\n",
       "      <th>District_ID</th>\n",
       "      <th>Instrument_ID</th>\n",
       "      <th>Month 1</th>\n",
       "      <th>Month 2</th>\n",
       "      <th>Month 3</th>\n",
       "      <th>Month 4</th>\n",
       "      <th>Month 5</th>\n",
       "      <th>Month 6</th>\n",
       "      <th>Month 7</th>\n",
       "      <th>Month 8</th>\n",
       "      <th>Month 9</th>\n",
       "      <th>Month 10</th>\n",
       "      <th>Month 11</th>\n",
       "      <th>Month 12</th>\n",
       "      <th>Year Total</th>\n",
       "    </tr>\n",
       "  </thead>\n",
       "  <tbody>\n",
       "    <tr>\n",
       "      <th>0</th>\n",
       "      <td>Hospital 1</td>\n",
       "      <td>Region 1</td>\n",
       "      <td>District 12</td>\n",
       "      <td>Instrument 2</td>\n",
       "      <td>8534</td>\n",
       "      <td>9917</td>\n",
       "      <td>7825</td>\n",
       "      <td>11702</td>\n",
       "      <td>8776</td>\n",
       "      <td>7755</td>\n",
       "      <td>9289</td>\n",
       "      <td>7796</td>\n",
       "      <td>7595</td>\n",
       "      <td>8292</td>\n",
       "      <td>7787</td>\n",
       "      <td>8282</td>\n",
       "      <td>103550</td>\n",
       "    </tr>\n",
       "    <tr>\n",
       "      <th>1</th>\n",
       "      <td>Hospital 1</td>\n",
       "      <td>Region 1</td>\n",
       "      <td>District 12</td>\n",
       "      <td>Instrument 3</td>\n",
       "      <td>298</td>\n",
       "      <td>298</td>\n",
       "      <td>214</td>\n",
       "      <td>311</td>\n",
       "      <td>261</td>\n",
       "      <td>223</td>\n",
       "      <td>237</td>\n",
       "      <td>171</td>\n",
       "      <td>173</td>\n",
       "      <td>183</td>\n",
       "      <td>193</td>\n",
       "      <td>0</td>\n",
       "      <td>2562</td>\n",
       "    </tr>\n",
       "    <tr>\n",
       "      <th>2</th>\n",
       "      <td>Hospital 1</td>\n",
       "      <td>Region 1</td>\n",
       "      <td>District 13</td>\n",
       "      <td>Instrument 1</td>\n",
       "      <td>37</td>\n",
       "      <td>40</td>\n",
       "      <td>38</td>\n",
       "      <td>43</td>\n",
       "      <td>29</td>\n",
       "      <td>0</td>\n",
       "      <td>0</td>\n",
       "      <td>0</td>\n",
       "      <td>0</td>\n",
       "      <td>0</td>\n",
       "      <td>0</td>\n",
       "      <td>0</td>\n",
       "      <td>187</td>\n",
       "    </tr>\n",
       "    <tr>\n",
       "      <th>3</th>\n",
       "      <td>Hospital 1</td>\n",
       "      <td>Region 1</td>\n",
       "      <td>District 13</td>\n",
       "      <td>Instrument 2</td>\n",
       "      <td>2486</td>\n",
       "      <td>3332</td>\n",
       "      <td>3193</td>\n",
       "      <td>2556</td>\n",
       "      <td>2108</td>\n",
       "      <td>2757</td>\n",
       "      <td>2639</td>\n",
       "      <td>2531</td>\n",
       "      <td>2771</td>\n",
       "      <td>2682</td>\n",
       "      <td>12317</td>\n",
       "      <td>1369</td>\n",
       "      <td>40741</td>\n",
       "    </tr>\n",
       "    <tr>\n",
       "      <th>4</th>\n",
       "      <td>Hospital 1</td>\n",
       "      <td>Region 1</td>\n",
       "      <td>District 13</td>\n",
       "      <td>Instrument 3</td>\n",
       "      <td>857</td>\n",
       "      <td>892</td>\n",
       "      <td>739</td>\n",
       "      <td>759</td>\n",
       "      <td>736</td>\n",
       "      <td>415</td>\n",
       "      <td>1203</td>\n",
       "      <td>434</td>\n",
       "      <td>448</td>\n",
       "      <td>113</td>\n",
       "      <td>829</td>\n",
       "      <td>1124</td>\n",
       "      <td>8549</td>\n",
       "    </tr>\n",
       "  </tbody>\n",
       "</table>\n",
       "</div>"
      ],
      "text/plain": [
       "  Hospital_ID Region_ID  District_ID Instrument_ID  Month 1  Month 2  Month 3  \\\n",
       "0  Hospital 1  Region 1  District 12  Instrument 2     8534     9917     7825   \n",
       "1  Hospital 1  Region 1  District 12  Instrument 3      298      298      214   \n",
       "2  Hospital 1  Region 1  District 13  Instrument 1       37       40       38   \n",
       "3  Hospital 1  Region 1  District 13  Instrument 2     2486     3332     3193   \n",
       "4  Hospital 1  Region 1  District 13  Instrument 3      857      892      739   \n",
       "\n",
       "   Month 4  Month 5  Month 6  Month 7  Month 8  Month 9  Month 10  Month 11  \\\n",
       "0    11702     8776     7755     9289     7796     7595      8292      7787   \n",
       "1      311      261      223      237      171      173       183       193   \n",
       "2       43       29        0        0        0        0         0         0   \n",
       "3     2556     2108     2757     2639     2531     2771      2682     12317   \n",
       "4      759      736      415     1203      434      448       113       829   \n",
       "\n",
       "   Month 12  Year Total  \n",
       "0      8282      103550  \n",
       "1         0        2562  \n",
       "2         0         187  \n",
       "3      1369       40741  \n",
       "4      1124        8549  "
      ]
     },
     "execution_count": 23,
     "metadata": {},
     "output_type": "execute_result"
    }
   ],
   "source": [
    "hospital_revenue.head()"
   ]
  },
  {
   "cell_type": "code",
   "execution_count": 24,
   "metadata": {
    "collapsed": true
   },
   "outputs": [],
   "source": [
    "hospital_revenue['H+D'] = hospital_revenue['Hospital_ID'] + hospital_revenue['District_ID']\n",
    "hospital_revenue['H+I'] = hospital_revenue['Hospital_ID'] + hospital_revenue['Instrument_ID']\n",
    "hospital_revenue['D+I'] = hospital_revenue['District_ID'] + hospital_revenue['Instrument_ID']\n",
    "\n",
    "lc = pd.DataFrame(hospital_revenue['Hospital_ID'].value_counts())\n",
    "hospital_revenue = pd.merge(hospital_revenue, lc, how='left', left_on='Hospital_ID',right_index=True)\n",
    "\n",
    "lc = pd.DataFrame(hospital_revenue['H+D'].value_counts())\n",
    "hospital_revenue = pd.merge(hospital_revenue, lc, how='left', left_on=['H+D'],right_index=True)\n",
    "\n",
    "lc = pd.DataFrame(hospital_revenue['H+I'].value_counts())\n",
    "hospital_revenue = pd.merge(hospital_revenue, lc, how='left', left_on=['H+I'],right_index=True)\n",
    "\n",
    "lc = pd.DataFrame(hospital_revenue['D+I'].value_counts())\n",
    "hospital_revenue = pd.merge(hospital_revenue, lc, how='left', left_on=['D+I'],right_index=True)\n",
    "\n",
    "lc = pd.DataFrame(hospital_revenue['Instrument_ID'].value_counts())\n",
    "hospital_revenue = pd.merge(hospital_revenue, lc, how='left', left_on='Instrument_ID',right_index=True)\n",
    "\n",
    "lc = pd.DataFrame(hospital_revenue['District_ID'].value_counts())\n",
    "hospital_revenue = pd.merge(hospital_revenue, lc, how='left', left_on='District_ID',right_index=True)"
   ]
  },
  {
   "cell_type": "code",
   "execution_count": 25,
   "metadata": {
    "collapsed": false
   },
   "outputs": [],
   "source": [
    "hospital_revenue.columns = [u'Hospital_ID', u'Region_ID', u'District_ID', u'Instrument_ID',\n",
    "       u'Month 1', u'Month 2', u'Month 3', u'Month 4', u'Month 5', u'Month 6',\n",
    "       u'Month 7', u'Month 8', u'Month 9', u'Month 10', u'Month 11',\n",
    "       u'Month 12', u'Year Total', u'H+D', u'H+I', u'D+I',\n",
    "       u'Hospital_ID_count', u'H+D_count', u'H+I_count', u'D+I_count',\n",
    "       u'Instrument_ID_count', u'District_ID_count']"
   ]
  },
  {
   "cell_type": "code",
   "execution_count": 26,
   "metadata": {
    "collapsed": false
   },
   "outputs": [
    {
     "data": {
      "text/html": [
       "<div>\n",
       "<table border=\"1\" class=\"dataframe\">\n",
       "  <thead>\n",
       "    <tr style=\"text-align: right;\">\n",
       "      <th></th>\n",
       "      <th>Hospital_ID</th>\n",
       "      <th>Region_ID</th>\n",
       "      <th>District_ID</th>\n",
       "      <th>Instrument_ID</th>\n",
       "      <th>Month 1</th>\n",
       "      <th>Month 2</th>\n",
       "      <th>Month 3</th>\n",
       "      <th>Month 4</th>\n",
       "      <th>Month 5</th>\n",
       "      <th>Month 6</th>\n",
       "      <th>...</th>\n",
       "      <th>Year Total</th>\n",
       "      <th>H+D</th>\n",
       "      <th>H+I</th>\n",
       "      <th>D+I</th>\n",
       "      <th>Hospital_ID_count</th>\n",
       "      <th>H+D_count</th>\n",
       "      <th>H+I_count</th>\n",
       "      <th>D+I_count</th>\n",
       "      <th>Instrument_ID_count</th>\n",
       "      <th>District_ID_count</th>\n",
       "    </tr>\n",
       "  </thead>\n",
       "  <tbody>\n",
       "    <tr>\n",
       "      <th>0</th>\n",
       "      <td>Hospital 1</td>\n",
       "      <td>Region 1</td>\n",
       "      <td>District 12</td>\n",
       "      <td>Instrument 2</td>\n",
       "      <td>8534</td>\n",
       "      <td>9917</td>\n",
       "      <td>7825</td>\n",
       "      <td>11702</td>\n",
       "      <td>8776</td>\n",
       "      <td>7755</td>\n",
       "      <td>...</td>\n",
       "      <td>103550</td>\n",
       "      <td>Hospital 1District 12</td>\n",
       "      <td>Hospital 1Instrument 2</td>\n",
       "      <td>District 12Instrument 2</td>\n",
       "      <td>52</td>\n",
       "      <td>2</td>\n",
       "      <td>16</td>\n",
       "      <td>637</td>\n",
       "      <td>13638</td>\n",
       "      <td>1309</td>\n",
       "    </tr>\n",
       "    <tr>\n",
       "      <th>1</th>\n",
       "      <td>Hospital 1</td>\n",
       "      <td>Region 1</td>\n",
       "      <td>District 12</td>\n",
       "      <td>Instrument 3</td>\n",
       "      <td>298</td>\n",
       "      <td>298</td>\n",
       "      <td>214</td>\n",
       "      <td>311</td>\n",
       "      <td>261</td>\n",
       "      <td>223</td>\n",
       "      <td>...</td>\n",
       "      <td>2562</td>\n",
       "      <td>Hospital 1District 12</td>\n",
       "      <td>Hospital 1Instrument 3</td>\n",
       "      <td>District 12Instrument 3</td>\n",
       "      <td>52</td>\n",
       "      <td>2</td>\n",
       "      <td>9</td>\n",
       "      <td>527</td>\n",
       "      <td>8270</td>\n",
       "      <td>1309</td>\n",
       "    </tr>\n",
       "    <tr>\n",
       "      <th>2</th>\n",
       "      <td>Hospital 1</td>\n",
       "      <td>Region 1</td>\n",
       "      <td>District 13</td>\n",
       "      <td>Instrument 1</td>\n",
       "      <td>37</td>\n",
       "      <td>40</td>\n",
       "      <td>38</td>\n",
       "      <td>43</td>\n",
       "      <td>29</td>\n",
       "      <td>0</td>\n",
       "      <td>...</td>\n",
       "      <td>187</td>\n",
       "      <td>Hospital 1District 13</td>\n",
       "      <td>Hospital 1Instrument 1</td>\n",
       "      <td>District 13Instrument 1</td>\n",
       "      <td>52</td>\n",
       "      <td>5</td>\n",
       "      <td>7</td>\n",
       "      <td>878</td>\n",
       "      <td>7399</td>\n",
       "      <td>4878</td>\n",
       "    </tr>\n",
       "    <tr>\n",
       "      <th>3</th>\n",
       "      <td>Hospital 1</td>\n",
       "      <td>Region 1</td>\n",
       "      <td>District 13</td>\n",
       "      <td>Instrument 2</td>\n",
       "      <td>2486</td>\n",
       "      <td>3332</td>\n",
       "      <td>3193</td>\n",
       "      <td>2556</td>\n",
       "      <td>2108</td>\n",
       "      <td>2757</td>\n",
       "      <td>...</td>\n",
       "      <td>40741</td>\n",
       "      <td>Hospital 1District 13</td>\n",
       "      <td>Hospital 1Instrument 2</td>\n",
       "      <td>District 13Instrument 2</td>\n",
       "      <td>52</td>\n",
       "      <td>5</td>\n",
       "      <td>16</td>\n",
       "      <td>1017</td>\n",
       "      <td>13638</td>\n",
       "      <td>4878</td>\n",
       "    </tr>\n",
       "    <tr>\n",
       "      <th>4</th>\n",
       "      <td>Hospital 1</td>\n",
       "      <td>Region 1</td>\n",
       "      <td>District 13</td>\n",
       "      <td>Instrument 3</td>\n",
       "      <td>857</td>\n",
       "      <td>892</td>\n",
       "      <td>739</td>\n",
       "      <td>759</td>\n",
       "      <td>736</td>\n",
       "      <td>415</td>\n",
       "      <td>...</td>\n",
       "      <td>8549</td>\n",
       "      <td>Hospital 1District 13</td>\n",
       "      <td>Hospital 1Instrument 3</td>\n",
       "      <td>District 13Instrument 3</td>\n",
       "      <td>52</td>\n",
       "      <td>5</td>\n",
       "      <td>9</td>\n",
       "      <td>952</td>\n",
       "      <td>8270</td>\n",
       "      <td>4878</td>\n",
       "    </tr>\n",
       "  </tbody>\n",
       "</table>\n",
       "<p>5 rows × 26 columns</p>\n",
       "</div>"
      ],
      "text/plain": [
       "  Hospital_ID Region_ID  District_ID Instrument_ID  Month 1  Month 2  Month 3  \\\n",
       "0  Hospital 1  Region 1  District 12  Instrument 2     8534     9917     7825   \n",
       "1  Hospital 1  Region 1  District 12  Instrument 3      298      298      214   \n",
       "2  Hospital 1  Region 1  District 13  Instrument 1       37       40       38   \n",
       "3  Hospital 1  Region 1  District 13  Instrument 2     2486     3332     3193   \n",
       "4  Hospital 1  Region 1  District 13  Instrument 3      857      892      739   \n",
       "\n",
       "   Month 4  Month 5  Month 6        ...         Year Total  \\\n",
       "0    11702     8776     7755        ...             103550   \n",
       "1      311      261      223        ...               2562   \n",
       "2       43       29        0        ...                187   \n",
       "3     2556     2108     2757        ...              40741   \n",
       "4      759      736      415        ...               8549   \n",
       "\n",
       "                     H+D                     H+I                      D+I  \\\n",
       "0  Hospital 1District 12  Hospital 1Instrument 2  District 12Instrument 2   \n",
       "1  Hospital 1District 12  Hospital 1Instrument 3  District 12Instrument 3   \n",
       "2  Hospital 1District 13  Hospital 1Instrument 1  District 13Instrument 1   \n",
       "3  Hospital 1District 13  Hospital 1Instrument 2  District 13Instrument 2   \n",
       "4  Hospital 1District 13  Hospital 1Instrument 3  District 13Instrument 3   \n",
       "\n",
       "   Hospital_ID_count  H+D_count  H+I_count D+I_count Instrument_ID_count  \\\n",
       "0                 52          2         16       637               13638   \n",
       "1                 52          2          9       527                8270   \n",
       "2                 52          5          7       878                7399   \n",
       "3                 52          5         16      1017               13638   \n",
       "4                 52          5          9       952                8270   \n",
       "\n",
       "  District_ID_count  \n",
       "0              1309  \n",
       "1              1309  \n",
       "2              4878  \n",
       "3              4878  \n",
       "4              4878  \n",
       "\n",
       "[5 rows x 26 columns]"
      ]
     },
     "execution_count": 26,
     "metadata": {},
     "output_type": "execute_result"
    }
   ],
   "source": [
    "hospital_revenue.head()"
   ]
  },
  {
   "cell_type": "markdown",
   "metadata": {},
   "source": [
    "After creating these features in hospital revenue dataframe I merged the dataframe with all possible combination to add these features in all possible combination dataframe. While merging these two dataframe I also merged Region ID of hospital revenue dataframe with all possible combination."
   ]
  },
  {
   "cell_type": "code",
   "execution_count": 27,
   "metadata": {
    "collapsed": true
   },
   "outputs": [],
   "source": [
    "to_add_2 = hospital_revenue[['Hospital_ID','Region_ID']]\n",
    "to_add_2 = to_add_2.drop_duplicates(subset = ['Hospital_ID'])\n",
    "all_possible_combination = pd.merge(all_possible_combination, to_add_2, how = 'left', on = 'Hospital_ID')\n",
    "all_possible_combination['Region_ID'] = all_possible_combination['Region_ID'].fillna(hospital_revenue['Region_ID'].value_counts().idxmax())"
   ]
  },
  {
   "cell_type": "code",
   "execution_count": 28,
   "metadata": {
    "collapsed": true
   },
   "outputs": [],
   "source": [
    "to_add_2 = hospital_revenue[['Hospital_ID','Hospital_ID_count']]\n",
    "to_add_2 = to_add_2.drop_duplicates(subset = ['Hospital_ID'])\n",
    "all_possible_combination = pd.merge(all_possible_combination, to_add_2, how = 'left', on = 'Hospital_ID')\n",
    "\n",
    "to_add_2 = hospital_revenue[['Instrument_ID','Instrument_ID_count']]\n",
    "to_add_2 = to_add_2.drop_duplicates(subset = ['Instrument_ID'])\n",
    "all_possible_combination = pd.merge(all_possible_combination, to_add_2, how = 'left', on = 'Instrument_ID')\n",
    "\n",
    "all_possible_combination['H+D'] = all_possible_combination['Hospital_ID'] + all_possible_combination['District_ID']\n",
    "all_possible_combination['H+I'] = all_possible_combination['Hospital_ID'] + all_possible_combination['Instrument_ID']\n",
    "all_possible_combination['D+I'] = all_possible_combination['District_ID'] + all_possible_combination['Instrument_ID']\n",
    "\n",
    "to_add_2 = hospital_revenue[['H+D','H+D_count']]\n",
    "to_add_2 = to_add_2.drop_duplicates(subset = ['H+D'])\n",
    "all_possible_combination = pd.merge(all_possible_combination, to_add_2, how = 'left', on = 'H+D')\n",
    "\n",
    "to_add_2 = hospital_revenue[['H+I','H+I_count']]\n",
    "to_add_2 = to_add_2.drop_duplicates(subset = ['H+I'])\n",
    "all_possible_combination = pd.merge(all_possible_combination, to_add_2, how = 'left', on = 'H+I')\n",
    "\n",
    "to_add_2 = hospital_revenue[['D+I','D+I_count']]\n",
    "to_add_2 = to_add_2.drop_duplicates(subset = ['D+I'])\n",
    "all_possible_combination = pd.merge(all_possible_combination, to_add_2, how = 'left', on = 'D+I')\n",
    "\n",
    "to_add_2 = hospital_revenue[['District_ID','District_ID_count']]\n",
    "to_add_2 = to_add_2.drop_duplicates(subset = ['District_ID'])\n",
    "all_possible_combination = pd.merge(all_possible_combination, to_add_2, how = 'left', on = 'District_ID')"
   ]
  },
  {
   "cell_type": "markdown",
   "metadata": {},
   "source": [
    "  "
   ]
  },
  {
   "cell_type": "markdown",
   "metadata": {
    "collapsed": true
   },
   "source": [
    "I created the same features in projected revenue dataframe and merged it with all possible combination later. For projected revenue, I merged features in all possible combination and named it as hospital_id new count, district_id new count etc."
   ]
  },
  {
   "cell_type": "markdown",
   "metadata": {},
   "source": [
    "  "
   ]
  },
  {
   "cell_type": "markdown",
   "metadata": {},
   "source": [
    "  "
   ]
  },
  {
   "cell_type": "code",
   "execution_count": 29,
   "metadata": {
    "collapsed": false
   },
   "outputs": [],
   "source": [
    "projected_revenue['H+D'] = projected_revenue['Hospital_ID'] + projected_revenue['District_ID']\n",
    "projected_revenue['H+I'] = projected_revenue['Hospital_ID'] + projected_revenue['Instrument_ID']\n",
    "projected_revenue['D+I'] = projected_revenue['District_ID'] + projected_revenue['Instrument_ID']\n",
    "\n",
    "lc = pd.DataFrame(projected_revenue['Hospital_ID'].value_counts())\n",
    "projected_revenue = pd.merge(projected_revenue, lc, how='left', left_on='Hospital_ID',right_index=True)\n",
    "\n",
    "lc = pd.DataFrame(projected_revenue['H+D'].value_counts()).rename(columns={'hosp_id_count':'hosp_id_count'})\n",
    "projected_revenue = pd.merge(projected_revenue, lc, how='left', left_on=['H+D'],right_index=True)\n",
    "\n",
    "lc = pd.DataFrame(projected_revenue['H+I'].value_counts()).rename(columns={'hosp_id_count':'hosp_id_count'})\n",
    "projected_revenue = pd.merge(projected_revenue, lc, how='left', left_on=['H+I'],right_index=True)\n",
    "\n",
    "lc = pd.DataFrame(projected_revenue['D+I'].value_counts()).rename(columns={'D+I_y':'D+I_count'})\n",
    "projected_revenue = pd.merge(projected_revenue, lc, how='left', left_on=['D+I'],right_index=True)\n",
    "\n",
    "lc = pd.DataFrame(projected_revenue['Instrument_ID'].value_counts()).rename(columns={'instrument_id_popular':'instrument_id_popular'})\n",
    "projected_revenue = pd.merge(projected_revenue, lc, how='left', left_on='Instrument_ID',right_index=True)\n",
    "\n",
    "lc = pd.DataFrame(projected_revenue['District_ID'].value_counts())\n",
    "projected_revenue = pd.merge(projected_revenue, lc, how='left', left_on='District_ID',right_index=True)\n",
    "\n",
    "projected_revenue.columns = [u'Hospital_ID', u'District_ID', u'Instrument_ID',\n",
    "       u'Annual_Projected_Revenue', u'H+D', u'H+I', u'D+I', u'Hospital_ID_new_count', u'H+D_new_count', u'H+I_new_count'\n",
    "                            , u'D+I_new_count', u'Instrument_ID_new_count', u'District_ID_new_count']"
   ]
  },
  {
   "cell_type": "code",
   "execution_count": 30,
   "metadata": {
    "collapsed": false
   },
   "outputs": [],
   "source": [
    "to_add_2 = projected_revenue[['Hospital_ID','Hospital_ID_new_count']]\n",
    "to_add_2 = to_add_2.drop_duplicates(subset = ['Hospital_ID'])\n",
    "all_possible_combination = pd.merge(all_possible_combination, to_add_2, how = 'left', on = 'Hospital_ID')\n",
    "\n",
    "to_add_2 = projected_revenue[['Instrument_ID','Instrument_ID_new_count']]\n",
    "to_add_2 = to_add_2.drop_duplicates(subset = ['Instrument_ID'])\n",
    "all_possible_combination = pd.merge(all_possible_combination, to_add_2, how = 'left', on = 'Instrument_ID')\n",
    "\n",
    "all_possible_combination['H+D'] = all_possible_combination['Hospital_ID'] + all_possible_combination['District_ID']\n",
    "all_possible_combination['H+I'] = all_possible_combination['Hospital_ID'] + all_possible_combination['Instrument_ID']\n",
    "all_possible_combination['D+I'] = all_possible_combination['District_ID'] + all_possible_combination['Instrument_ID']\n",
    "\n",
    "to_add_2 = projected_revenue[['H+D','H+D_new_count']]\n",
    "to_add_2 = to_add_2.drop_duplicates(subset = ['H+D'])\n",
    "all_possible_combination = pd.merge(all_possible_combination, to_add_2, how = 'left', on = 'H+D')\n",
    "\n",
    "to_add_2 = projected_revenue[['H+I','H+I_new_count']]\n",
    "to_add_2 = to_add_2.drop_duplicates(subset = ['H+I'])\n",
    "all_possible_combination = pd.merge(all_possible_combination, to_add_2, how = 'left', on = 'H+I')\n",
    "\n",
    "to_add_2 = projected_revenue[['D+I','D+I_new_count']]\n",
    "to_add_2 = to_add_2.drop_duplicates(subset = ['D+I'])\n",
    "all_possible_combination = pd.merge(all_possible_combination, to_add_2, how = 'left', on = 'D+I')\n",
    "\n",
    "to_add_2 = projected_revenue[['District_ID','District_ID_new_count']]\n",
    "to_add_2 = to_add_2.drop_duplicates(subset = ['District_ID'])\n",
    "all_possible_combination = pd.merge(all_possible_combination, to_add_2, how = 'left', on = 'District_ID')"
   ]
  },
  {
   "cell_type": "markdown",
   "metadata": {},
   "source": [
    "  "
   ]
  },
  {
   "cell_type": "markdown",
   "metadata": {},
   "source": [
    "I filled the missing values present in value count and new value count features of all possible combination with 0, as these were those combinations that never happened in past but were possible."
   ]
  },
  {
   "cell_type": "markdown",
   "metadata": {},
   "source": [
    "At this stage, I made another assumption. Separately the value count and new value count features of all possible combination contained many missing values, but on observing carefully I realised that they were serving the same purpose of hinting the model of past deals. So I added both the hospital revenue count features and projected revenue count features of all possible combination Ex: Hospital id count feature of hospital revenue present in all possible data frame and hospital id new count of projected revenue in all possible data frame were added to create a single feature hospital id count."
   ]
  },
  {
   "cell_type": "markdown",
   "metadata": {},
   "source": [
    " "
   ]
  },
  {
   "cell_type": "code",
   "execution_count": 31,
   "metadata": {
    "collapsed": false
   },
   "outputs": [],
   "source": [
    "all_possible_combination = all_possible_combination.fillna(0)"
   ]
  },
  {
   "cell_type": "code",
   "execution_count": 32,
   "metadata": {
    "collapsed": false
   },
   "outputs": [
    {
     "data": {
      "text/plain": [
       "Instrument_ID              False\n",
       "Hospital_ID                False\n",
       "District_ID                False\n",
       "Exist                      False\n",
       "train                      False\n",
       "Region_ID                  False\n",
       "Hospital_ID_count          False\n",
       "Instrument_ID_count        False\n",
       "H+D                        False\n",
       "H+I                        False\n",
       "D+I                        False\n",
       "H+D_count                  False\n",
       "H+I_count                  False\n",
       "D+I_count                  False\n",
       "District_ID_count          False\n",
       "Hospital_ID_new_count      False\n",
       "Instrument_ID_new_count    False\n",
       "H+D_new_count              False\n",
       "H+I_new_count              False\n",
       "D+I_new_count              False\n",
       "District_ID_new_count      False\n",
       "dtype: bool"
      ]
     },
     "execution_count": 32,
     "metadata": {},
     "output_type": "execute_result"
    }
   ],
   "source": [
    "all_possible_combination.isnull().any()"
   ]
  },
  {
   "cell_type": "code",
   "execution_count": 33,
   "metadata": {
    "collapsed": false
   },
   "outputs": [],
   "source": [
    "all_possible_combination['Hospital_ID_count'] = all_possible_combination['Hospital_ID_count'] + all_possible_combination['Hospital_ID_new_count']\n",
    "all_possible_combination['District_ID_count'] = all_possible_combination['District_ID_count'] + all_possible_combination['District_ID_new_count']\n",
    "all_possible_combination['H+D_count'] = all_possible_combination['H+D_count'] + all_possible_combination['H+D_new_count']\n",
    "all_possible_combination['H+I_count'] = all_possible_combination['H+I_count'] + all_possible_combination['H+I_new_count']\n",
    "all_possible_combination['D+I_count'] = all_possible_combination['D+I_count'] + all_possible_combination['D+I_new_count']\n",
    "all_possible_combination['Instrument_ID_count'] = all_possible_combination['Instrument_ID_count'] + all_possible_combination['Instrument_ID_new_count']"
   ]
  },
  {
   "cell_type": "markdown",
   "metadata": {},
   "source": [
    "  "
   ]
  },
  {
   "cell_type": "markdown",
   "metadata": {},
   "source": [
    "After this I created a few new features in all possible data frame to provide more information to my final model. Some of these I used in my final model and some of these I did not, as lots of correlating features can reduce the accuracy. So after carefully observing the upward and downward trend of my lb score I selected the most effective features out of these features."
   ]
  },
  {
   "cell_type": "markdown",
   "metadata": {},
   "source": [
    "  "
   ]
  },
  {
   "cell_type": "code",
   "execution_count": 34,
   "metadata": {
    "collapsed": true
   },
   "outputs": [],
   "source": [
    "all_possible_combination['rating'] = all_possible_combination['Hospital_ID_count'] + all_possible_combination['District_ID_count'] + all_possible_combination['Instrument_ID_count']\n",
    "all_possible_combination['rating_2'] = all_possible_combination['Hospital_ID_count'] * all_possible_combination['District_ID_count'] * all_possible_combination['Instrument_ID_count']\n",
    "all_possible_combination['rating_3'] = all_possible_combination['H+D_count'] + all_possible_combination['D+I_count'] + all_possible_combination['H+I_count']\n",
    "all_possible_combination['rating_4'] = all_possible_combination['H+D_count'] * all_possible_combination['D+I_count'] * all_possible_combination['H+I_count']\n",
    "all_possible_combination['rating_5'] = all_possible_combination['Hospital_ID_count'] + all_possible_combination['District_ID_count']\n",
    "all_possible_combination['rating_6'] = all_possible_combination['Hospital_ID_count'] + all_possible_combination['Instrument_ID_count']\n",
    "all_possible_combination['rating_7'] = all_possible_combination['Instrument_ID_count'] + all_possible_combination['District_ID_count']"
   ]
  },
  {
   "cell_type": "markdown",
   "metadata": {},
   "source": [
    "  "
   ]
  },
  {
   "cell_type": "markdown",
   "metadata": {},
   "source": [
    "I created unique Region+Instrument ID count feature also in all possible combination."
   ]
  },
  {
   "cell_type": "markdown",
   "metadata": {},
   "source": [
    " "
   ]
  },
  {
   "cell_type": "code",
   "execution_count": 35,
   "metadata": {
    "collapsed": true
   },
   "outputs": [],
   "source": [
    "all_possible_combination['R+I'] = all_possible_combination['Region_ID'] + all_possible_combination['Instrument_ID']"
   ]
  },
  {
   "cell_type": "code",
   "execution_count": 36,
   "metadata": {
    "collapsed": false
   },
   "outputs": [],
   "source": [
    "lc = pd.DataFrame(all_possible_combination['R+I'].value_counts())\n",
    "all_possible_combination = pd.merge(all_possible_combination, lc, how='left', left_on='R+I',right_index=True)\n"
   ]
  },
  {
   "cell_type": "code",
   "execution_count": 37,
   "metadata": {
    "collapsed": false
   },
   "outputs": [],
   "source": [
    "all_possible_combination.columns = [          u'Instrument_ID',             u'Hospital_ID',\n",
    "                   u'District_ID',                   u'Exist',\n",
    "                         u'train',               u'Region_ID',\n",
    "             u'Hospital_ID_count',     u'Instrument_ID_count',\n",
    "                           u'H+D',                     u'H+I',\n",
    "                           u'D+I',               u'H+D_count',\n",
    "                     u'H+I_count',               u'D+I_count',\n",
    "             u'District_ID_count',   u'Hospital_ID_new_count',\n",
    "       u'Instrument_ID_new_count',           u'H+D_new_count',\n",
    "                 u'H+I_new_count',           u'D+I_new_count',\n",
    "         u'District_ID_new_count',                  u'rating',\n",
    "                      u'rating_2',                u'rating_3',\n",
    "                      u'rating_4',                u'rating_5',\n",
    "                      u'rating_6',                u'rating_7',\n",
    "                         u'R+I',                   u'R+I_count']"
   ]
  },
  {
   "cell_type": "markdown",
   "metadata": {},
   "source": [
    " "
   ]
  },
  {
   "cell_type": "markdown",
   "metadata": {},
   "source": [
    "I added the 'Buy_or_not' feature in all possible combination dataframe. This was one of the important column in my dataframe as it provided information of positive and negative classification. All those combinations of H-D-I that were present in hospital revenue and projected revenue dataframe I assumed as positive classification and the remaining I assumed as negative classification."
   ]
  },
  {
   "cell_type": "markdown",
   "metadata": {},
   "source": [
    "  "
   ]
  },
  {
   "cell_type": "code",
   "execution_count": 38,
   "metadata": {
    "collapsed": false
   },
   "outputs": [
    {
     "name": "stderr",
     "output_type": "stream",
     "text": [
      "/Users/Apple/anaconda/lib/python2.7/site-packages/ipykernel/__main__.py:2: SettingWithCopyWarning: \n",
      "A value is trying to be set on a copy of a slice from a DataFrame.\n",
      "Try using .loc[row_indexer,col_indexer] = value instead\n",
      "\n",
      "See the caveats in the documentation: http://pandas.pydata.org/pandas-docs/stable/indexing.html#indexing-view-versus-copy\n",
      "  from ipykernel import kernelapp as app\n",
      "/Users/Apple/anaconda/lib/python2.7/site-packages/ipykernel/__main__.py:8: SettingWithCopyWarning: \n",
      "A value is trying to be set on a copy of a slice from a DataFrame\n",
      "\n",
      "See the caveats in the documentation: http://pandas.pydata.org/pandas-docs/stable/indexing.html#indexing-view-versus-copy\n",
      "/Users/Apple/anaconda/lib/python2.7/site-packages/ipykernel/__main__.py:11: SettingWithCopyWarning: \n",
      "A value is trying to be set on a copy of a slice from a DataFrame.\n",
      "Try using .loc[row_indexer,col_indexer] = value instead\n",
      "\n",
      "See the caveats in the documentation: http://pandas.pydata.org/pandas-docs/stable/indexing.html#indexing-view-versus-copy\n",
      "/Users/Apple/anaconda/lib/python2.7/site-packages/ipykernel/__main__.py:15: SettingWithCopyWarning: \n",
      "A value is trying to be set on a copy of a slice from a DataFrame\n",
      "\n",
      "See the caveats in the documentation: http://pandas.pydata.org/pandas-docs/stable/indexing.html#indexing-view-versus-copy\n"
     ]
    }
   ],
   "source": [
    "to_add_3 = hospital_revenue[['Hospital_ID','District_ID','Instrument_ID']]\n",
    "to_add_3['Buy_or_Not'] = 1\n",
    "\n",
    "all_possible_combination['Buy_or_Not'] = 0\n",
    "\n",
    "a = all_possible_combination[['Hospital_ID','District_ID','Instrument_ID']].apply(tuple, axis = 1)\n",
    "b = hospital_revenue[['Hospital_ID','District_ID','Instrument_ID']].apply(tuple, axis = 1)\n",
    "all_possible_combination['Buy_or_Not'][a.isin(b)] = 1\n",
    "\n",
    "to_add_5 = projected_revenue[['Hospital_ID','District_ID','Instrument_ID']]\n",
    "to_add_5['Buy_or_Not'] = 1\n",
    "\n",
    "a = all_possible_combination[['Hospital_ID','District_ID','Instrument_ID']].apply(tuple, axis = 1)\n",
    "b = to_add_5[['Hospital_ID','District_ID','Instrument_ID']].apply(tuple, axis = 1)\n",
    "all_possible_combination['Buy_or_Not'][a.isin(b)] = 1"
   ]
  },
  {
   "cell_type": "markdown",
   "metadata": {},
   "source": [
    "  "
   ]
  },
  {
   "cell_type": "markdown",
   "metadata": {},
   "source": [
    "I created some more rating features in my all possible dataframe to provide more information to my model about unique combination count with respect to other count."
   ]
  },
  {
   "cell_type": "code",
   "execution_count": 39,
   "metadata": {
    "collapsed": false
   },
   "outputs": [],
   "source": [
    "all_possible_combination['ratio_1'] = all_possible_combination['H+I_count']/all_possible_combination['Hospital_ID_count']"
   ]
  },
  {
   "cell_type": "code",
   "execution_count": 40,
   "metadata": {
    "collapsed": true
   },
   "outputs": [],
   "source": [
    "all_possible_combination['ratio_2'] = all_possible_combination['D+I_count']/all_possible_combination['District_ID_count']"
   ]
  },
  {
   "cell_type": "code",
   "execution_count": 41,
   "metadata": {
    "collapsed": true
   },
   "outputs": [],
   "source": [
    "#all_possible_combination['ratio_3'] = all_possible_combination['H+D_count'] * all_possible_combination['Instrument_ID_count']"
   ]
  },
  {
   "cell_type": "code",
   "execution_count": 42,
   "metadata": {
    "collapsed": true
   },
   "outputs": [],
   "source": [
    "all_possible_combination['ratio_4'] = all_possible_combination['H+I_count']/all_possible_combination['Instrument_ID_count']\n",
    "all_possible_combination['ratio_5'] = all_possible_combination['D+I_count']/all_possible_combination['Instrument_ID_count']"
   ]
  },
  {
   "cell_type": "code",
   "execution_count": 43,
   "metadata": {
    "collapsed": false
   },
   "outputs": [],
   "source": [
    "all_possible_combination['rating_8'] = 0.5*(all_possible_combination['H+I_count']+all_possible_combination['D+I_count'])\n",
    "all_possible_combination['ratio_6'] = all_possible_combination['R+I_count']/all_possible_combination['Instrument_ID_count']"
   ]
  },
  {
   "cell_type": "code",
   "execution_count": 44,
   "metadata": {
    "collapsed": true
   },
   "outputs": [],
   "source": [
    "all_possible_combination['rating_9'] = 0.5*(all_possible_combination['Instrument_ID_count']+all_possible_combination['District_ID_count'])\n",
    "all_possible_combination['rating_10'] = 0.5*(all_possible_combination['Instrument_ID_count']+all_possible_combination['Hospital_ID_count'])"
   ]
  },
  {
   "cell_type": "code",
   "execution_count": 45,
   "metadata": {
    "collapsed": true
   },
   "outputs": [],
   "source": [
    "# all_possible_combination['ratio_7'] = all_possible_combination['D+I_count']/(all_possible_combination['District_ID_count']*all_possible_combination['Instrument_ID_count'])\n",
    "# all_possible_combination['ratio_8'] = all_possible_combination['H+I_count']/(all_possible_combination['Hospital_ID_new_count']*all_possible_combination['Instrument_ID_count'])"
   ]
  },
  {
   "cell_type": "markdown",
   "metadata": {
    "collapsed": true
   },
   "source": [
    " "
   ]
  },
  {
   "cell_type": "markdown",
   "metadata": {
    "collapsed": false
   },
   "source": [
    "Parallely I constructed a dataframe for regression problem also. For this I seperated out postive classified rows out of all possible combination dataframe. In that I added the year total and revenue feature of hospital revenue and projected revenue. Then I filled the missing values with 0's and combined the year total and revenue features of all possible combination to treat as my final revenue for training model for regression problem. This was purely done on intuition. There were missing values in the year total and revenue features initially because few of the positive H-D-I combinations of all possible data frame were present in hospital revenue data frame and few were present in projected revenue data frame. For those combinations which were repeated in both I simply added both the revenues."
   ]
  },
  {
   "cell_type": "markdown",
   "metadata": {
    "collapsed": true
   },
   "source": [
    "  "
   ]
  },
  {
   "cell_type": "code",
   "execution_count": 46,
   "metadata": {
    "collapsed": false
   },
   "outputs": [
    {
     "name": "stderr",
     "output_type": "stream",
     "text": [
      "/Users/Apple/anaconda/lib/python2.7/site-packages/ipykernel/__main__.py:4: SettingWithCopyWarning: \n",
      "A value is trying to be set on a copy of a slice from a DataFrame.\n",
      "Try using .loc[row_indexer,col_indexer] = value instead\n",
      "\n",
      "See the caveats in the documentation: http://pandas.pydata.org/pandas-docs/stable/indexing.html#indexing-view-versus-copy\n"
     ]
    }
   ],
   "source": [
    "# FOR REGRESSION\n",
    "\n",
    "for_reg = all_possible_combination[all_possible_combination['Buy_or_Not'] == 1]\n",
    "for_reg['H+D+I'] = for_reg['Hospital_ID'] + for_reg['District_ID'] + for_reg['Instrument_ID']\n",
    "hospital_revenue['H+D+I'] = hospital_revenue['Hospital_ID'] + hospital_revenue['District_ID'] + hospital_revenue['Instrument_ID']\n",
    "projected_revenue['H+D+I'] = projected_revenue['Hospital_ID'] + projected_revenue['District_ID'] + projected_revenue['Instrument_ID']\n",
    "\n",
    "to_add_2 = hospital_revenue[['H+D+I','Year Total']]\n",
    "to_add_2 = to_add_2.drop_duplicates(subset = ['H+D+I'])\n",
    "for_reg = pd.merge(for_reg, to_add_2, how = 'left', on = 'H+D+I')\n",
    "\n",
    "to_add_2 = projected_revenue[['H+D+I','Annual_Projected_Revenue']]\n",
    "to_add_2 = to_add_2.drop_duplicates(subset = ['H+D+I'])\n",
    "for_reg = pd.merge(for_reg, to_add_2, how = 'left', on = 'H+D+I')"
   ]
  },
  {
   "cell_type": "code",
   "execution_count": 47,
   "metadata": {
    "collapsed": true
   },
   "outputs": [],
   "source": [
    "solution_from_combination = all_possible_combination[all_possible_combination['train'] == 1]\n",
    "all_possible_combination = all_possible_combination[all_possible_combination['train'] == 0]"
   ]
  },
  {
   "cell_type": "code",
   "execution_count": 48,
   "metadata": {
    "collapsed": false
   },
   "outputs": [
    {
     "data": {
      "text/html": [
       "<div>\n",
       "<table border=\"1\" class=\"dataframe\">\n",
       "  <thead>\n",
       "    <tr style=\"text-align: right;\">\n",
       "      <th></th>\n",
       "      <th>Instrument_ID</th>\n",
       "      <th>Hospital_ID</th>\n",
       "      <th>District_ID</th>\n",
       "      <th>Exist</th>\n",
       "      <th>train</th>\n",
       "      <th>Region_ID</th>\n",
       "      <th>Hospital_ID_count</th>\n",
       "      <th>Instrument_ID_count</th>\n",
       "      <th>H+D</th>\n",
       "      <th>H+I</th>\n",
       "      <th>...</th>\n",
       "      <th>R+I_count</th>\n",
       "      <th>Buy_or_Not</th>\n",
       "      <th>ratio_1</th>\n",
       "      <th>ratio_2</th>\n",
       "      <th>ratio_4</th>\n",
       "      <th>ratio_5</th>\n",
       "      <th>rating_8</th>\n",
       "      <th>ratio_6</th>\n",
       "      <th>rating_9</th>\n",
       "      <th>rating_10</th>\n",
       "    </tr>\n",
       "  </thead>\n",
       "  <tbody>\n",
       "    <tr>\n",
       "      <th>12</th>\n",
       "      <td>Instrument 2</td>\n",
       "      <td>Hospital 1</td>\n",
       "      <td>District 39</td>\n",
       "      <td>1</td>\n",
       "      <td>1</td>\n",
       "      <td>Region 1</td>\n",
       "      <td>70.0</td>\n",
       "      <td>17452.0</td>\n",
       "      <td>Hospital 1District 39</td>\n",
       "      <td>Hospital 1Instrument 2</td>\n",
       "      <td>...</td>\n",
       "      <td>4903</td>\n",
       "      <td>0</td>\n",
       "      <td>0.300000</td>\n",
       "      <td>0.300566</td>\n",
       "      <td>0.001203</td>\n",
       "      <td>0.042574</td>\n",
       "      <td>382.0</td>\n",
       "      <td>0.280942</td>\n",
       "      <td>9962.0</td>\n",
       "      <td>8761.0</td>\n",
       "    </tr>\n",
       "    <tr>\n",
       "      <th>76</th>\n",
       "      <td>Instrument 2</td>\n",
       "      <td>Hospital 1004</td>\n",
       "      <td>District 35</td>\n",
       "      <td>1</td>\n",
       "      <td>1</td>\n",
       "      <td>Region 3</td>\n",
       "      <td>29.0</td>\n",
       "      <td>17452.0</td>\n",
       "      <td>Hospital 1004District 35</td>\n",
       "      <td>Hospital 1004Instrument 2</td>\n",
       "      <td>...</td>\n",
       "      <td>3013</td>\n",
       "      <td>0</td>\n",
       "      <td>0.344828</td>\n",
       "      <td>0.948718</td>\n",
       "      <td>0.000573</td>\n",
       "      <td>0.016961</td>\n",
       "      <td>153.0</td>\n",
       "      <td>0.172645</td>\n",
       "      <td>8882.0</td>\n",
       "      <td>8740.5</td>\n",
       "    </tr>\n",
       "    <tr>\n",
       "      <th>81</th>\n",
       "      <td>Instrument 2</td>\n",
       "      <td>Hospital 1004</td>\n",
       "      <td>District 8</td>\n",
       "      <td>1</td>\n",
       "      <td>1</td>\n",
       "      <td>Region 3</td>\n",
       "      <td>29.0</td>\n",
       "      <td>17452.0</td>\n",
       "      <td>Hospital 1004District 8</td>\n",
       "      <td>Hospital 1004Instrument 2</td>\n",
       "      <td>...</td>\n",
       "      <td>3013</td>\n",
       "      <td>0</td>\n",
       "      <td>0.344828</td>\n",
       "      <td>0.463892</td>\n",
       "      <td>0.000573</td>\n",
       "      <td>0.021717</td>\n",
       "      <td>194.5</td>\n",
       "      <td>0.172645</td>\n",
       "      <td>9134.5</td>\n",
       "      <td>8740.5</td>\n",
       "    </tr>\n",
       "    <tr>\n",
       "      <th>82</th>\n",
       "      <td>Instrument 2</td>\n",
       "      <td>Hospital 1005</td>\n",
       "      <td>District 50</td>\n",
       "      <td>1</td>\n",
       "      <td>1</td>\n",
       "      <td>Region 1</td>\n",
       "      <td>2.0</td>\n",
       "      <td>17452.0</td>\n",
       "      <td>Hospital 1005District 50</td>\n",
       "      <td>Hospital 1005Instrument 2</td>\n",
       "      <td>...</td>\n",
       "      <td>4903</td>\n",
       "      <td>0</td>\n",
       "      <td>1.000000</td>\n",
       "      <td>0.262647</td>\n",
       "      <td>0.000115</td>\n",
       "      <td>0.058904</td>\n",
       "      <td>515.0</td>\n",
       "      <td>0.280942</td>\n",
       "      <td>10683.0</td>\n",
       "      <td>8727.0</td>\n",
       "    </tr>\n",
       "    <tr>\n",
       "      <th>89</th>\n",
       "      <td>Instrument 2</td>\n",
       "      <td>Hospital 1006</td>\n",
       "      <td>District 2</td>\n",
       "      <td>1</td>\n",
       "      <td>1</td>\n",
       "      <td>Region 3</td>\n",
       "      <td>107.0</td>\n",
       "      <td>17452.0</td>\n",
       "      <td>Hospital 1006District 2</td>\n",
       "      <td>Hospital 1006Instrument 2</td>\n",
       "      <td>...</td>\n",
       "      <td>3013</td>\n",
       "      <td>0</td>\n",
       "      <td>0.373832</td>\n",
       "      <td>0.314456</td>\n",
       "      <td>0.002292</td>\n",
       "      <td>0.012090</td>\n",
       "      <td>125.5</td>\n",
       "      <td>0.172645</td>\n",
       "      <td>9061.5</td>\n",
       "      <td>8779.5</td>\n",
       "    </tr>\n",
       "  </tbody>\n",
       "</table>\n",
       "<p>5 rows × 39 columns</p>\n",
       "</div>"
      ],
      "text/plain": [
       "   Instrument_ID    Hospital_ID  District_ID  Exist  train Region_ID  \\\n",
       "12  Instrument 2     Hospital 1  District 39      1      1  Region 1   \n",
       "76  Instrument 2  Hospital 1004  District 35      1      1  Region 3   \n",
       "81  Instrument 2  Hospital 1004   District 8      1      1  Region 3   \n",
       "82  Instrument 2  Hospital 1005  District 50      1      1  Region 1   \n",
       "89  Instrument 2  Hospital 1006   District 2      1      1  Region 3   \n",
       "\n",
       "    Hospital_ID_count  Instrument_ID_count                       H+D  \\\n",
       "12               70.0              17452.0     Hospital 1District 39   \n",
       "76               29.0              17452.0  Hospital 1004District 35   \n",
       "81               29.0              17452.0   Hospital 1004District 8   \n",
       "82                2.0              17452.0  Hospital 1005District 50   \n",
       "89              107.0              17452.0   Hospital 1006District 2   \n",
       "\n",
       "                          H+I    ...     R+I_count  Buy_or_Not   ratio_1  \\\n",
       "12     Hospital 1Instrument 2    ...          4903           0  0.300000   \n",
       "76  Hospital 1004Instrument 2    ...          3013           0  0.344828   \n",
       "81  Hospital 1004Instrument 2    ...          3013           0  0.344828   \n",
       "82  Hospital 1005Instrument 2    ...          4903           0  1.000000   \n",
       "89  Hospital 1006Instrument 2    ...          3013           0  0.373832   \n",
       "\n",
       "     ratio_2   ratio_4   ratio_5  rating_8   ratio_6  rating_9  rating_10  \n",
       "12  0.300566  0.001203  0.042574     382.0  0.280942    9962.0     8761.0  \n",
       "76  0.948718  0.000573  0.016961     153.0  0.172645    8882.0     8740.5  \n",
       "81  0.463892  0.000573  0.021717     194.5  0.172645    9134.5     8740.5  \n",
       "82  0.262647  0.000115  0.058904     515.0  0.280942   10683.0     8727.0  \n",
       "89  0.314456  0.002292  0.012090     125.5  0.172645    9061.5     8779.5  \n",
       "\n",
       "[5 rows x 39 columns]"
      ]
     },
     "execution_count": 48,
     "metadata": {},
     "output_type": "execute_result"
    }
   ],
   "source": [
    "solution_from_combination.head()"
   ]
  },
  {
   "cell_type": "markdown",
   "metadata": {},
   "source": [
    "  "
   ]
  },
  {
   "cell_type": "markdown",
   "metadata": {},
   "source": [
    "Finally after separating the solution combination from all possible combination dataframe I obtained a model ready dataset for training. The size was approximately 62K in which there were around 47K positive value and remaining were negative. \n",
    "If I would have include the H-D combination that were present in hospital profiling data frame. I would have obtained almost 2.5 lakh combination in which 47K would be positive and remaining 2 lakh would be begative."
   ]
  },
  {
   "cell_type": "markdown",
   "metadata": {},
   "source": [
    "  "
   ]
  },
  {
   "cell_type": "code",
   "execution_count": 49,
   "metadata": {
    "collapsed": false
   },
   "outputs": [
    {
     "data": {
      "text/plain": [
       "1    47636\n",
       "0    15877\n",
       "Name: Buy_or_Not, dtype: int64"
      ]
     },
     "execution_count": 49,
     "metadata": {},
     "output_type": "execute_result"
    }
   ],
   "source": [
    "all_possible_combination['Buy_or_Not'].value_counts()"
   ]
  },
  {
   "cell_type": "code",
   "execution_count": 50,
   "metadata": {
    "collapsed": false
   },
   "outputs": [],
   "source": [
    "solution_from_combination['H+D+I'] = solution_from_combination['Hospital_ID']+solution_from_combination['District_ID']+solution_from_combination['Instrument_ID']\n",
    "all_possible_combination['H+D+I'] = all_possible_combination['Hospital_ID']+all_possible_combination['District_ID']+all_possible_combination['Instrument_ID']\n",
    "\n",
    "all_possible_combination = all_possible_combination.drop_duplicates(subset = ['H+D+I'])\n",
    "solution_from_combination = solution_from_combination.drop_duplicates(subset = ['H+D+I'])"
   ]
  },
  {
   "cell_type": "markdown",
   "metadata": {},
   "source": [
    "  "
   ]
  },
  {
   "cell_type": "markdown",
   "metadata": {},
   "source": [
    "  Following were the continuous and categorical features I finally seleccted for my model. "
   ]
  },
  {
   "cell_type": "markdown",
   "metadata": {},
   "source": [
    "  "
   ]
  },
  {
   "cell_type": "code",
   "execution_count": 51,
   "metadata": {
    "collapsed": false
   },
   "outputs": [],
   "source": [
    "cont_type = [ u'H+D_count',u'H+I_count',u'D+I_count',u'Instrument_ID_count','Hospital_ID_count','R+I_count'\n",
    "            , 'ratio_1','ratio_2','ratio_4','ratio_5','ratio_6','rating_8','rating_9', 'rating_10']\n",
    "\n",
    "cat_type = [u'Hospital_ID',u'Instrument_ID', u'District_ID', u'Region_ID']"
   ]
  },
  {
   "cell_type": "code",
   "execution_count": 52,
   "metadata": {
    "collapsed": false
   },
   "outputs": [],
   "source": [
    "solution_copy = solution.copy()\n",
    "solution_copy = pd.merge(solution_copy, solution_from_combination[cat_type+cont_type], on = ['Hospital_ID','District_ID','Instrument_ID'])"
   ]
  },
  {
   "cell_type": "markdown",
   "metadata": {
    "collapsed": true
   },
   "source": [
    "  "
   ]
  },
  {
   "cell_type": "markdown",
   "metadata": {},
   "source": [
    "The below commented out code is one of the things I tried with the dataset. In this trial I seperated out instrument wise rows out of my all possible combination training dataframe and trained my model using that dataframe to predict the result of that particular instrument in solution dataset. "
   ]
  },
  {
   "cell_type": "markdown",
   "metadata": {},
   "source": [
    "  "
   ]
  },
  {
   "cell_type": "code",
   "execution_count": 53,
   "metadata": {
    "collapsed": false
   },
   "outputs": [],
   "source": [
    "# solution_retain = solution_copy.copy()\n",
    "# all_possible_combination_retain = all_possible_combination.copy()\n",
    "# #instrument 1\n",
    "# all_possible_combination = all_possible_combination_retain[all_possible_combination_retain['Instrument_ID'] == 'Instrument 20']\n",
    "# solution_copy = solution_retain[solution_retain['Instrument_ID'] == 'Instrument 20']"
   ]
  },
  {
   "cell_type": "markdown",
   "metadata": {},
   "source": [
    "  "
   ]
  },
  {
   "cell_type": "markdown",
   "metadata": {},
   "source": [
    "For categorical features I could have either label encoded them or could have binarized them using one hot encoding. So for region ID and instrument ID I used one hot encoding but for district id and hospital id I label encoded them as they were high cardinality features."
   ]
  },
  {
   "cell_type": "markdown",
   "metadata": {},
   "source": [
    "I created data_final and for_reg out of all possible combination dataframe to train my model for classification and regression. Then I created a solution_copy dataframe using solution_from_combination dataframe and solution dataframe for prediction."
   ]
  },
  {
   "cell_type": "markdown",
   "metadata": {},
   "source": [
    "  "
   ]
  },
  {
   "cell_type": "code",
   "execution_count": 54,
   "metadata": {
    "collapsed": true
   },
   "outputs": [],
   "source": [
    "cat_type = ['Region_ID','Instrument_ID']"
   ]
  },
  {
   "cell_type": "code",
   "execution_count": 55,
   "metadata": {
    "collapsed": false
   },
   "outputs": [],
   "source": [
    "data_final = pd.DataFrame()"
   ]
  },
  {
   "cell_type": "code",
   "execution_count": 56,
   "metadata": {
    "collapsed": false
   },
   "outputs": [],
   "source": [
    "from sklearn import preprocessing\n",
    "le = preprocessing.LabelEncoder()\n",
    "all_possible_combination['Hospital_ID'] = le.fit_transform(all_possible_combination['Hospital_ID'])\n",
    "for_reg['Hospital_ID'] = le.fit_transform(for_reg['Hospital_ID'])\n",
    "\n",
    "all_possible_combination['District_ID'] = le.fit_transform(all_possible_combination['District_ID'])\n",
    "for_reg['District_ID'] = le.fit_transform(for_reg['District_ID'])\n",
    "\n",
    "# all_possible_combination['Instrument_ID'] = le.fit_transform(all_possible_combination['Instrument_ID'])\n",
    "# for_reg['Instrument_ID'] = le.fit_transform(for_reg['Instrument_ID'])\n",
    "\n",
    "# all_possible_combination['Region_ID'] = le.fit_transform(all_possible_combination['Region_ID'])\n",
    "# for_reg['Region_ID'] = le.fit_transform(for_reg['Region_ID'])"
   ]
  },
  {
   "cell_type": "code",
   "execution_count": 57,
   "metadata": {
    "collapsed": true
   },
   "outputs": [],
   "source": [
    "data_final = pd.get_dummies(all_possible_combination[cat_type])\n",
    "reg_final = pd.get_dummies(for_reg[cat_type])"
   ]
  },
  {
   "cell_type": "code",
   "execution_count": 58,
   "metadata": {
    "collapsed": false
   },
   "outputs": [],
   "source": [
    "data_final[cont_type] = all_possible_combination[cont_type]\n",
    "data_final['Hospital_ID'] = all_possible_combination['Hospital_ID']\n",
    "data_final['District_ID'] = all_possible_combination['District_ID']\n",
    "#data_final[cat_type] = all_possible_combination[cat_type]\n",
    "\n",
    "reg_final[cont_type] = for_reg[cont_type]\n",
    "#reg_final[cat_type] = for_reg[cat_type]\n",
    "reg_final['Hospital_ID'] = for_reg['Hospital_ID']\n",
    "reg_final['District_ID'] = for_reg['District_ID']"
   ]
  },
  {
   "cell_type": "markdown",
   "metadata": {},
   "source": [
    "  "
   ]
  },
  {
   "cell_type": "markdown",
   "metadata": {},
   "source": [
    "I tried experimenting with different algorithms but there was no improvement. Also the cv score which I was getting for my training dataset was very different from leaderboard score. So I was not able to properly optimize the hyperparameters of my model. This difference also indicated that there were stil few things in the given dataset which I was not able to understand. "
   ]
  },
  {
   "cell_type": "markdown",
   "metadata": {},
   "source": [
    "I tried experimenting with various combinations, features and algorithms but the lb score was showing no improvement. \n",
    "At one point manually predicting solution dataset seemed like a better idea but we were given the dataset not to train ourselves but to train a model."
   ]
  },
  {
   "cell_type": "markdown",
   "metadata": {},
   "source": [
    "  "
   ]
  },
  {
   "cell_type": "markdown",
   "metadata": {},
   "source": [
    "   "
   ]
  },
  {
   "cell_type": "code",
   "execution_count": 59,
   "metadata": {
    "collapsed": false
   },
   "outputs": [],
   "source": [
    "from sklearn.ensemble import RandomForestClassifier,ExtraTreesClassifier,GradientBoostingClassifier, RandomForestRegressor\n",
    "rf = RandomForestClassifier(n_estimators = 500)\n",
    "rf_reg = RandomForestRegressor(n_estimators = 500)\n",
    "#gbm = GradientBoostingClassifier(n_estimators = 500)\n",
    "# xgb = XGBClassifier(n_estimators=180,colsample_bytree=0.2,learning_rate=0.9,max_depth=7,min_child_weight = 10.0,gamma = 0.2,\n",
    "#                      subsample=0.8,reg_alpha = 0.0006544639254088123,reg_lambda = 0.07683048356144306, objective = 'binary:logistic')"
   ]
  },
  {
   "cell_type": "code",
   "execution_count": 60,
   "metadata": {
    "collapsed": false
   },
   "outputs": [],
   "source": [
    "data_final = data_final.fillna(0)\n",
    "reg_final = reg_final.fillna(0)\n",
    "for_reg = for_reg.fillna(0)"
   ]
  },
  {
   "cell_type": "code",
   "execution_count": 61,
   "metadata": {
    "collapsed": false
   },
   "outputs": [],
   "source": [
    "for_reg['Year Total'] = for_reg['Year Total'] + for_reg['Annual_Projected_Revenue']"
   ]
  },
  {
   "cell_type": "code",
   "execution_count": 62,
   "metadata": {
    "collapsed": false
   },
   "outputs": [
    {
     "data": {
      "text/plain": [
       "RandomForestRegressor(bootstrap=True, criterion='mse', max_depth=None,\n",
       "           max_features='auto', max_leaf_nodes=None, min_samples_leaf=1,\n",
       "           min_samples_split=2, min_weight_fraction_leaf=0.0,\n",
       "           n_estimators=500, n_jobs=1, oob_score=False, random_state=None,\n",
       "           verbose=0, warm_start=False)"
      ]
     },
     "execution_count": 62,
     "metadata": {},
     "output_type": "execute_result"
    }
   ],
   "source": [
    "rf.fit(data_final, all_possible_combination['Buy_or_Not'])\n",
    "rf_reg.fit(reg_final, for_reg['Year Total'])"
   ]
  },
  {
   "cell_type": "code",
   "execution_count": 73,
   "metadata": {
    "collapsed": false
   },
   "outputs": [],
   "source": [
    "predict_final = pd.DataFrame()\n",
    "from sklearn import preprocessing\n",
    "le = preprocessing.LabelEncoder()\n",
    "solution_copy['Hospital_ID'] = le.fit_transform(solution_copy['Hospital_ID'])\n",
    "solution_copy['District_ID'] = le.fit_transform(solution_copy['District_ID'])\n",
    "#solution_copy['Region_ID'] = le.fit_transform(solution_copy['Region_ID'])\n",
    "#solution_copy['Instrument_ID'] = le.fit_transform(solution_copy['Instrument_ID'])\n",
    "\n",
    "predict_final = pd.get_dummies(solution_copy[cat_type])\n",
    "#data_sum = predict_final.sum(axis = 1)\n",
    "#data_mean = predict_final.mean(axis = 1)\n",
    "# predict_final['sum'] = data_sum\n",
    "# predict_final['mean'] = data_mean\n",
    "\n",
    "\n",
    "predict_final[cont_type] = solution_copy[cont_type]\n",
    "#predict_final[cat_type] = solution_copy[cat_type]\n",
    "predict_final['Hospital_ID'] = solution_copy['Hospital_ID']\n",
    "predict_final['District_ID'] = solution_copy['District_ID']\n",
    "# predict_final['Hospital_employees'] = solution_copy['Hospital_employees']\n",
    "# predict_final['Hospital_employees'] = predict_final['Hospital_employees'].fillna(-1)"
   ]
  },
  {
   "cell_type": "code",
   "execution_count": 74,
   "metadata": {
    "collapsed": false
   },
   "outputs": [],
   "source": [
    "predict_final = predict_final.fillna(0)"
   ]
  },
  {
   "cell_type": "code",
   "execution_count": 75,
   "metadata": {
    "collapsed": false
   },
   "outputs": [],
   "source": [
    "# sol_col = rf.predict_proba(predict_final)\n",
    "# t = pd.DataFrame(sol_col)\n",
    "# solution['Buy_or_not'] = t[t.columns[0]]<0.3\n",
    "# solution['Buy_or_not'] = solution['Buy_or_not'].astype(int)"
   ]
  },
  {
   "cell_type": "code",
   "execution_count": 76,
   "metadata": {
    "collapsed": false
   },
   "outputs": [],
   "source": [
    "solution['Buy_or_not'] = rf.predict(predict_final)"
   ]
  },
  {
   "cell_type": "code",
   "execution_count": 78,
   "metadata": {
    "collapsed": false
   },
   "outputs": [
    {
     "data": {
      "text/plain": [
       "0    170712\n",
       "1     23098\n",
       "Name: Buy_or_not, dtype: int64"
      ]
     },
     "execution_count": 78,
     "metadata": {},
     "output_type": "execute_result"
    }
   ],
   "source": [
    "solution['Buy_or_not'].value_counts()"
   ]
  },
  {
   "cell_type": "code",
   "execution_count": 70,
   "metadata": {
    "collapsed": false
   },
   "outputs": [
    {
     "name": "stderr",
     "output_type": "stream",
     "text": [
      "/Users/Apple/anaconda/lib/python2.7/site-packages/ipykernel/__main__.py:1: SettingWithCopyWarning: \n",
      "A value is trying to be set on a copy of a slice from a DataFrame\n",
      "\n",
      "See the caveats in the documentation: http://pandas.pydata.org/pandas-docs/stable/indexing.html#indexing-view-versus-copy\n",
      "  if __name__ == '__main__':\n",
      "/Users/Apple/anaconda/lib/python2.7/site-packages/ipykernel/__main__.py:3: SettingWithCopyWarning: \n",
      "A value is trying to be set on a copy of a slice from a DataFrame\n",
      "\n",
      "See the caveats in the documentation: http://pandas.pydata.org/pandas-docs/stable/indexing.html#indexing-view-versus-copy\n",
      "  app.launch_new_instance()\n"
     ]
    }
   ],
   "source": [
    "solution['Revenue'][solution['Buy_or_not'] == 1] = rf_reg.predict(predict_final)\n",
    "# solution['Revenue'][solution['Buy_or_not'] == 1] = 100\n",
    "solution['Revenue'][solution['Buy_or_not'] == 0] = 0"
   ]
  },
  {
   "cell_type": "code",
   "execution_count": 71,
   "metadata": {
    "collapsed": true
   },
   "outputs": [],
   "source": [
    "solution.to_csv('final.csv',index = False)"
   ]
  },
  {
   "cell_type": "code",
   "execution_count": 72,
   "metadata": {
    "collapsed": false
   },
   "outputs": [
    {
     "data": {
      "text/plain": [
       "Index([                   u'rating_8',                   u'D+I_count',\n",
       "                           u'ratio_2',                     u'ratio_5',\n",
       "                           u'ratio_1',                   u'H+D_count',\n",
       "                          u'rating_9',                   u'H+I_count',\n",
       "                           u'ratio_4',                   u'rating_10',\n",
       "                       u'District_ID',         u'Instrument_ID_count',\n",
       "                           u'ratio_6',           u'Hospital_ID_count',\n",
       "                       u'Hospital_ID',                   u'R+I_count',\n",
       "        u'Instrument_ID_Instrument 2',          u'Region_ID_Region 1',\n",
       "                u'Region_ID_Region 2',          u'Region_ID_Region 3',\n",
       "                u'Region_ID_Region 5', u'Instrument_ID_Instrument 18',\n",
       "       u'Instrument_ID_Instrument 20',  u'Instrument_ID_Instrument 4',\n",
       "        u'Instrument_ID_Instrument 1',  u'Instrument_ID_Instrument 5',\n",
       "                u'Region_ID_Region 4',  u'Instrument_ID_Instrument 7',\n",
       "        u'Instrument_ID_Instrument 8',  u'Instrument_ID_Instrument 3',\n",
       "       u'Instrument_ID_Instrument 19', u'Instrument_ID_Instrument 10',\n",
       "       u'Instrument_ID_Instrument 11',  u'Instrument_ID_Instrument 6',\n",
       "       u'Instrument_ID_Instrument 15', u'Instrument_ID_Instrument 13',\n",
       "                u'Region_ID_Region 6'],\n",
       "      dtype='object')"
      ]
     },
     "execution_count": 72,
     "metadata": {},
     "output_type": "execute_result"
    }
   ],
   "source": [
    "importance = rf.feature_importances_\n",
    "indices = np.argsort(importance)[::-1]\n",
    "data_final.columns[indices]"
   ]
  },
  {
   "cell_type": "markdown",
   "metadata": {},
   "source": [
    "# END NOTE"
   ]
  },
  {
   "cell_type": "markdown",
   "metadata": {},
   "source": [
    "Using random forest feature importance, I checked the most important features of the dataset and saw that the ratio and rating features were the most helpful ones. I tried a few more features but still was not able to improve my lb score. The solution dataset was heavily imbalanced as it contained very few positive results as compared to negative ones. I was gettting around 23K 1's and 1.7 lakhs 0's and my lb score was 0.15 and one of my friends who was getting around 10K 1's was getting the almost same lb score. F1 score is a tricky metric; if either of the precision or recall gets screwed up, it scews your entire result."
   ]
  },
  {
   "cell_type": "markdown",
   "metadata": {},
   "source": [
    "I had a few more feature ideas which I was not able to try during the competition. One of the interesting parameters which I never used for my classification was revenue. Another one of the features which I never used was hospital employees. Hospital employees was not helping me with the prediction and as I already stated that the H-D combination present in the profiling dataframe was very different from the one present in revenue and solution dataframe so on merging these dataframe I was getting lots of missing value in hospital employee columns, so a after few tries I decided to skip this feature."
   ]
  },
  {
   "cell_type": "markdown",
   "metadata": {},
   "source": [
    "In the end I learned many new things while playing with the data. There were many new problems that I faced while constructing the model trainable dataset which made me research few of the new important concepts. Training my model on a heavily imbalance dataset and making prediction for heavy imbalanced dataset is still a big challenge for me. "
   ]
  },
  {
   "cell_type": "code",
   "execution_count": null,
   "metadata": {
    "collapsed": true
   },
   "outputs": [],
   "source": []
  }
 ],
 "metadata": {
  "kernelspec": {
   "display_name": "Python 2",
   "language": "python",
   "name": "python2"
  },
  "language_info": {
   "codemirror_mode": {
    "name": "ipython",
    "version": 2
   },
   "file_extension": ".py",
   "mimetype": "text/x-python",
   "name": "python",
   "nbconvert_exporter": "python",
   "pygments_lexer": "ipython2",
   "version": "2.7.11"
  }
 },
 "nbformat": 4,
 "nbformat_minor": 0
}
